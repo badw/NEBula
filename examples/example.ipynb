{
 "cells": [
  {
   "cell_type": "code",
   "execution_count": 1,
   "metadata": {},
   "outputs": [],
   "source": [
    "%load_ext autoreload\n",
    "%autoreload 2"
   ]
  },
  {
   "cell_type": "code",
   "execution_count": 13,
   "metadata": {},
   "outputs": [],
   "source": [
    "from pymatgen.core import Structure \n",
    "from nebula.generate import InterstitialNEB"
   ]
  },
  {
   "cell_type": "code",
   "execution_count": 14,
   "metadata": {},
   "outputs": [
    {
     "data": {
      "text/plain": [
       "(13.678227857180952, 13.678227857180952, 14.886216052355561)"
      ]
     },
     "execution_count": 14,
     "metadata": {},
     "output_type": "execute_result"
    }
   ],
   "source": [
    "supercell = Structure.from_file('POSCAR')*[3,3,2]\n",
    "supercell.lattice.abc"
   ]
  },
  {
   "cell_type": "code",
   "execution_count": 4,
   "metadata": {},
   "outputs": [
    {
     "name": "stderr",
     "output_type": "stream",
     "text": [
      "Generating DefectEntry objects: 100.0%|██████████| [00:00,  135.83it/s]\n"
     ]
    },
    {
     "name": "stdout",
     "output_type": "stream",
     "text": [
      "\n",
      "2 interstitial(s) found from doped:\n",
      " - ['Ag_i_C3v_Ag2.67_0', 'Ag_i_C3v_Ag2.98_0']\n",
      "            \n",
      "\n",
      "3 pathways found:\n",
      "                 site1              site2 direction\n",
      "0    Ag_i_C3v_Ag2.67_0  Ag_i_C3v_Ag2.67_0         c\n",
      "2    Ag_i_C3v_Ag2.67_0  Ag_i_C3v_Ag2.98_0         c\n",
      "108  Ag_i_C3v_Ag2.98_0  Ag_i_C3v_Ag2.98_0         c\n",
      "              \n"
     ]
    }
   ],
   "source": [
    "ineb = InterstitialNEB()\n",
    "possibilities = ineb.get_interstitial_neb_mappings(\n",
    "    supercell = supercell,\n",
    "    desired_interstitial_specie='Ag',\n",
    "    neb_distance_cutoff = 4,\n",
    ")"
   ]
  },
  {
   "cell_type": "code",
   "execution_count": 5,
   "metadata": {},
   "outputs": [
    {
     "name": "stdout",
     "output_type": "stream",
     "text": [
      "CHGNet v0.3.0 initialized with 412,525 parameters\n",
      "CHGNet will run on mps\n",
      "       Step     Time          Energy          fmax\n",
      "MDMin:    0 15:19:01     -185.066826        0.010582\n"
     ]
    }
   ],
   "source": [
    "from chgnet.model import CHGNetCalculator\n",
    "from nebula.relax import NEBulaRelax\n",
    "\n",
    "cnc = CHGNetCalculator()\n",
    "nebrelax = NEBulaRelax(asecalculator = cnc)\n",
    "energy, fstruct = nebrelax.relax(supercell)"
   ]
  },
  {
   "cell_type": "code",
   "execution_count": 15,
   "metadata": {},
   "outputs": [
    {
     "name": "stderr",
     "output_type": "stream",
     "text": [
      "Generating DefectEntry objects: 100.0%|██████████| [00:00,  337.38it/s]\n"
     ]
    },
    {
     "name": "stdout",
     "output_type": "stream",
     "text": [
      "\n",
      "2 interstitial(s) found from doped:\n",
      " - ['Ag_i_C3v_Ag2.67_0', 'Ag_i_C3v_Ag2.98_0']\n",
      "            \n",
      "\n",
      "1 pathways found:\n",
      "               site1              site2 direction\n",
      "0  Ag_i_C3v_Ag2.67_0  Ag_i_C3v_Ag2.98_0         c\n",
      "              \n"
     ]
    }
   ],
   "source": [
    "ineb = InterstitialNEB()\n",
    "possibilities = ineb.get_interstitial_neb_mappings(\n",
    "    supercell = fstruct,\n",
    "    desired_interstitial_specie='Ag',\n",
    "    neb_distance_cutoff = 3,\n",
    ")"
   ]
  },
  {
   "cell_type": "code",
   "execution_count": 16,
   "metadata": {},
   "outputs": [
    {
     "name": "stdout",
     "output_type": "stream",
     "text": [
      "       Step     Time          Energy          fmax\n",
      "MDMin:    0 15:24:15     -186.908087        1.270072\n",
      "MDMin:    1 15:24:17     -187.022539        0.975261\n",
      "MDMin:    2 15:24:19     -187.198377        0.414169\n",
      "MDMin:    3 15:24:20     -187.281136        0.273335\n",
      "MDMin:    4 15:24:22     -187.320540        0.278535\n",
      "MDMin:    5 15:24:24     -187.341356        0.165624\n",
      "MDMin:    6 15:24:26     -187.353226        0.204392\n",
      "MDMin:    7 15:24:28     -187.360570        0.143638\n",
      "MDMin:    8 15:24:29     -187.365722        0.158814\n",
      "MDMin:    9 15:24:31     -187.369360        0.131699\n",
      "MDMin:   10 15:24:33     -187.372701        0.134226\n",
      "MDMin:   11 15:24:35     -187.376339        0.121095\n",
      "MDMin:   12 15:24:37     -187.380429        0.125259\n",
      "MDMin:   13 15:24:39     -187.384867        0.112871\n",
      "MDMin:   14 15:24:41     -187.389044        0.138330\n",
      "MDMin:   15 15:24:43     -187.393361        0.112498\n",
      "MDMin:   16 15:24:44     -187.397607        0.134110\n",
      "MDMin:   17 15:24:46     -187.401175        0.124646\n",
      "MDMin:   18 15:24:48     -187.404952        0.134308\n",
      "MDMin:   19 15:24:50     -187.409199        0.131978\n",
      "MDMin:   20 15:24:52     -187.413828        0.132470\n",
      "MDMin:   21 15:24:54     -187.418092        0.121155\n",
      "MDMin:   22 15:24:56     -187.421521        0.143169\n",
      "MDMin:   23 15:24:57     -187.424706        0.119900\n",
      "MDMin:   24 15:24:59     -187.428239        0.140889\n",
      "MDMin:   25 15:25:01     -187.431181        0.126821\n",
      "MDMin:   26 15:25:03     -187.434314        0.132208\n",
      "MDMin:   27 15:25:05     -187.437812        0.120857\n",
      "MDMin:   28 15:25:07     -187.441484        0.121603\n",
      "MDMin:   29 15:25:08     -187.444652        0.101543\n",
      "MDMin:   30 15:25:10     -187.446392        0.125247\n",
      "MDMin:   31 15:25:12     -187.447802        0.107231\n",
      "MDMin:   32 15:25:14     -187.449734        0.091139\n"
     ]
    }
   ],
   "source": [
    "ims = []\n",
    "for poss in possibilities.values():\n",
    "    _images = nebrelax.nebrun(poss['init_structure'],poss['final_structure'],relax_endpoints=False) #\n",
    "    ims.append(_images)"
   ]
  },
  {
   "cell_type": "code",
   "execution_count": 17,
   "metadata": {},
   "outputs": [
    {
     "name": "stdout",
     "output_type": "stream",
     "text": [
      "       Step     Time          Energy          fmax\n",
      "MDMin:    0 15:25:15     -186.912229        1.157079\n",
      "MDMin:    1 15:25:15     -187.033104        0.898526\n",
      "MDMin:    2 15:25:15     -187.218915        0.309176\n",
      "MDMin:    3 15:25:15     -187.300090        0.204740\n",
      "MDMin:    4 15:25:16     -187.327745        0.108001\n",
      "MDMin:    5 15:25:16     -187.343688        0.096356\n",
      "       Step     Time          Energy          fmax\n",
      "MDMin:    0 15:25:16     -187.411653        0.109053\n",
      "MDMin:    1 15:25:16     -187.414977        0.107390\n",
      "MDMin:    2 15:25:16     -187.423436        0.097381\n",
      "       Step     Time          Energy          fmax\n",
      "MDMin:    0 15:25:17     -187.283990        0.374126\n",
      "MDMin:    1 15:25:19     -187.292727        0.326833\n",
      "MDMin:    2 15:25:21     -187.313300        0.207667\n",
      "MDMin:    3 15:25:23     -187.333837        0.154739\n",
      "MDMin:    4 15:25:24     -187.347204        0.129425\n",
      "MDMin:    5 15:25:26     -187.360901        0.117666\n",
      "MDMin:    6 15:25:28     -187.372684        0.103102\n",
      "MDMin:    7 15:25:30     -187.381647        0.119378\n",
      "MDMin:    8 15:25:32     -187.388209        0.116851\n",
      "MDMin:    9 15:25:34     -187.391707        0.123583\n",
      "MDMin:   10 15:25:36     -187.393082        0.093919\n"
     ]
    }
   ],
   "source": [
    "ims.append(nebrelax.nebrun(poss['init_structure'],poss['final_structure'],relax_endpoints=True))"
   ]
  },
  {
   "cell_type": "code",
   "execution_count": 18,
   "metadata": {},
   "outputs": [
    {
     "data": {
      "image/png": "[encoded data removed]",
      "text/plain": [
       "<Figure size 600x600 with 1 Axes>"
      ]
     },
     "metadata": {},
     "output_type": "display_data"
    }
   ],
   "source": [
    "from nebula.plotting import NEBulaPlotter\n",
    "import seaborn as sns \n",
    "import matplotlib.pyplot as plt \n",
    "\n",
    "sns.set_style('darkgrid')\n",
    "sns.set_palette('pastel')\n",
    "\n",
    "fig,ax = plt.subplots(figsize=(6,6),dpi=100)\n",
    "nebplot = NEBulaPlotter()\n",
    "\n",
    "for i,neb in enumerate(ims):\n",
    "    nebplot.nebanalysis(neb)\n",
    "    ax = nebplot.plot_neb(ax=ax)"
   ]
  },
  {
   "cell_type": "markdown",
   "metadata": {},
   "source": [
    "#### 1. Initialise INeb and relax using CHGNet (optional)"
   ]
  },
  {
   "cell_type": "code",
   "execution_count": null,
   "metadata": {},
   "outputs": [],
   "source": [
    "ineb = INeb()\n",
    "energy,structure = ineb.chgnet_relax(structure=struct,**{'steps':1,'fmax':0.1,'relax_model':'MDMin'})\n",
    "energy"
   ]
  },
  {
   "cell_type": "markdown",
   "metadata": {},
   "source": [
    "### 2. generate interstitial mappings using Doped (https://github.com/SMTG-Bham/doped)"
   ]
  },
  {
   "cell_type": "code",
   "execution_count": null,
   "metadata": {},
   "outputs": [],
   "source": [
    "mappings = ineb.get_interstitial_neb_mappings(structure,relax_with_chgnet=False)"
   ]
  },
  {
   "cell_type": "markdown",
   "metadata": {},
   "source": [
    "### 3. generate interstitialcy mappings based on the interstitial pathways found"
   ]
  },
  {
   "cell_type": "code",
   "execution_count": null,
   "metadata": {},
   "outputs": [],
   "source": [
    "mappings_intcy = ineb.get_interstitialcy_neb_mappings(structure,passthrough_search_radius=3)"
   ]
  },
  {
   "cell_type": "code",
   "execution_count": null,
   "metadata": {},
   "outputs": [],
   "source": [
    "'''\n",
    "save the interstitial images as POSCAR files to run with VASP \n",
    "'''\n",
    "# ineb.save_interstitial_VASP(location='interstitial',nimages=5)"
   ]
  },
  {
   "cell_type": "code",
   "execution_count": null,
   "metadata": {},
   "outputs": [],
   "source": [
    "'''\n",
    "save the interstitialcy images as POSCAR files to run with VASP \n",
    "'''\n",
    "# ineb.save_interstitialcy_VASP(location='interstitialcy',nimages=5)"
   ]
  },
  {
   "cell_type": "markdown",
   "metadata": {},
   "source": [
    "### 4. you can also run a simple NEB using CHGNet (https://chgnet.lbl.gov) as the calculator through ASE (https://wiki.fysik.dtu.dk/ase/). "
   ]
  },
  {
   "cell_type": "markdown",
   "metadata": {},
   "source": [
    "#### 4a Interstitial NEB"
   ]
  },
  {
   "cell_type": "code",
   "execution_count": null,
   "metadata": {},
   "outputs": [],
   "source": [
    "'''relax the end points first '''\n",
    "_,ii = ineb.chgnet_relax(mappings[2592]['init_structure'],fmax=0.5)\n",
    "_,ff = ineb.chgnet_relax(mappings[2592]['final_structure'],fmax=0.5)"
   ]
  },
  {
   "cell_type": "code",
   "execution_count": null,
   "metadata": {},
   "outputs": [],
   "source": [
    "'''now the NEB calcualtion'''\n",
    "neb = ineb.chgnet_nebrun(ii,ff,nimages=3,fmax=0.5)"
   ]
  },
  {
   "cell_type": "code",
   "execution_count": null,
   "metadata": {},
   "outputs": [],
   "source": [
    "'''and now plot the result'''\n",
    "try:\n",
    "    import seaborn as sns\n",
    "    sns.set_style('darkgrid')\n",
    "    sns.set_palette('pastel')\n",
    "except Exception:\n",
    "    pass \n",
    "import matplotlib.pyplot as plt \n",
    "from ase.neb import NEBTools\n",
    "fig,ax = plt.subplots(figsize=(4,4),dpi=100)\n",
    "nebtools = NEBTools(neb)\n",
    "Ef, dE = nebtools.get_barrier()\n",
    "fit = nebtools.get_fit()\n",
    "ax.plot(fit[2], fit[3])\n",
    "ax.plot(fit[0], fit[1], **{'marker': 'o',\n",
    "                           'linestyle': 'None',\n",
    "                           'color': 'grey',\n",
    "                           'markerfacecolor': 'white',\n",
    "                           'markersize': 5})\n",
    "ax.set_ylabel('energy (eV)')\n",
    "ax.set_xlabel('path coordinate (arb. units)')\n",
    "plt.show()"
   ]
  },
  {
   "cell_type": "markdown",
   "metadata": {},
   "source": [
    "#### 4b Interstitialcy NEB"
   ]
  },
  {
   "cell_type": "code",
   "execution_count": null,
   "metadata": {},
   "outputs": [],
   "source": [
    "'''relax the end points first '''\n",
    "_,ii = ineb.chgnet_relax(mappings_intcy[2592][0]['init_structure'],fmax=0.5)\n",
    "_,ff = ineb.chgnet_relax(mappings_intcy[2592][0]['final_structure'],fmax=0.5)"
   ]
  },
  {
   "cell_type": "code",
   "execution_count": null,
   "metadata": {},
   "outputs": [],
   "source": [
    "'''now the NEB calcualtion'''\n",
    "neb_intcy = ineb.chgnet_nebrun(ii,ff,nimages=3,fmax=0.5)"
   ]
  },
  {
   "cell_type": "code",
   "execution_count": null,
   "metadata": {},
   "outputs": [],
   "source": [
    "'''and now plot the result'''\n",
    "try:\n",
    "    import seaborn as sns\n",
    "    sns.set_style('darkgrid')\n",
    "    sns.set_palette('pastel')\n",
    "except Exception:\n",
    "    pass \n",
    "import matplotlib.pyplot as plt \n",
    "from ase.neb import NEBTools\n",
    "fig,ax = plt.subplots(figsize=(4,4),dpi=100)\n",
    "nebtools = NEBTools(neb_intcy)\n",
    "Ef, dE = nebtools.get_barrier()\n",
    "fit = nebtools.get_fit()\n",
    "ax.plot(fit[2], fit[3])\n",
    "ax.plot(fit[0], fit[1], **{'marker': 'o',\n",
    "                           'linestyle': 'None',\n",
    "                           'color': 'grey',\n",
    "                           'markerfacecolor': 'white',\n",
    "                           'markersize': 5})\n",
    "ax.set_ylabel('energy (eV)')\n",
    "ax.set_xlabel('path coordinate (arb. units)')\n",
    "plt.show()"
   ]
  },
  {
   "cell_type": "markdown",
   "metadata": {},
   "source": [
    "#### 4c plot them together"
   ]
  },
  {
   "cell_type": "code",
   "execution_count": null,
   "metadata": {},
   "outputs": [],
   "source": [
    "'''and now plot the result'''\n",
    "try:\n",
    "    import seaborn as sns\n",
    "    sns.set_style('darkgrid')\n",
    "    sns.set_palette('pastel')\n",
    "except Exception:\n",
    "    pass \n",
    "import matplotlib.pyplot as plt \n",
    "from ase.neb import NEBTools\n",
    "\n",
    "labels = {0:'interstitial',1:'interstitialcy'}\n",
    "\n",
    "fig,ax = plt.subplots(figsize=(4,4),dpi=100)\n",
    "for i,calc in enumerate([neb,neb_intcy]):\n",
    "    nebtools = NEBTools(calc)\n",
    "    Ef, dE = nebtools.get_barrier()\n",
    "    fit = nebtools.get_fit()\n",
    "    ax.plot(fit[2], fit[3],label=labels[i])\n",
    "    ax.plot(fit[0], fit[1], **{'marker': 'o',\n",
    "                               'linestyle': 'None',\n",
    "                               'color': 'grey',\n",
    "                               'markerfacecolor': 'white',\n",
    "                               'markersize': 5})\n",
    "ax.set_ylabel('energy (eV)')\n",
    "ax.set_xlabel('path coordinate (arb. units)')\n",
    "ax.legend(edgecolor='black')\n",
    "plt.show()"
   ]
  }
 ],
 "metadata": {
  "kernelspec": {
   "display_name": "py312",
   "language": "python",
   "name": "python3"
  },
  "language_info": {
   "codemirror_mode": {
    "name": "ipython",
    "version": 3
   },
   "file_extension": ".py",
   "mimetype": "text/x-python",
   "name": "python",
   "nbconvert_exporter": "python",
   "pygments_lexer": "ipython3",
   "version": "3.12.2"
  }
 },
 "nbformat": 4,
 "nbformat_minor": 2
}
