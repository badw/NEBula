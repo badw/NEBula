{
 "cells": [
  {
   "cell_type": "code",
   "execution_count": 1,
   "metadata": {},
   "outputs": [],
   "source": [
    "%load_ext autoreload\n",
    "%autoreload 2"
   ]
  },
  {
   "cell_type": "code",
   "execution_count": 2,
   "metadata": {},
   "outputs": [],
   "source": [
    "from pymatgen.core import Structure \n",
    "from nebula.generate import InterstitialNEB"
   ]
  },
  {
   "cell_type": "code",
   "execution_count": 3,
   "metadata": {},
   "outputs": [
    {
     "data": {
      "text/plain": [
       "(13.678227857180952, 13.678227857180952, 14.886216052355561)"
      ]
     },
     "execution_count": 3,
     "metadata": {},
     "output_type": "execute_result"
    }
   ],
   "source": [
    "supercell = Structure.from_file('POSCAR')*[3,3,2]\n",
    "supercell.lattice.abc"
   ]
  },
  {
   "cell_type": "code",
   "execution_count": 4,
   "metadata": {},
   "outputs": [
    {
     "name": "stderr",
     "output_type": "stream",
     "text": [
      "Generating DefectEntry objects: 100.0%|██████████| [00:00,  128.95it/s]\n"
     ]
    },
    {
     "name": "stdout",
     "output_type": "stream",
     "text": [
      "\n",
      "2 interstitial(s) found from doped:\n",
      " - ['Ag_i_C3v_Ag2.67_0', 'Ag_i_C3v_Ag2.98_0']\n",
      "            \n",
      "\n",
      "3 pathways found:\n",
      "                 site1              site2 direction\n",
      "0    Ag_i_C3v_Ag2.67_0  Ag_i_C3v_Ag2.67_0         c\n",
      "2    Ag_i_C3v_Ag2.67_0  Ag_i_C3v_Ag2.98_0         c\n",
      "108  Ag_i_C3v_Ag2.98_0  Ag_i_C3v_Ag2.98_0         c\n",
      "              \n"
     ]
    }
   ],
   "source": [
    "ineb = InterstitialNEB()\n",
    "possibilities = ineb.get_interstitial_neb_mappings(\n",
    "    supercell = supercell,\n",
    "    desired_interstitial_specie='Ag',\n",
    "    neb_distance_cutoff = 4,\n",
    ")"
   ]
  },
  {
   "cell_type": "code",
   "execution_count": 6,
   "metadata": {},
   "outputs": [],
   "source": [
    "from nebula.plotting import NEBulaPlotter\n",
    "\n",
    "for i,path in possibilities.items():\n",
    "    nebp = NEBulaPlotter()\n",
    "    images = ineb.neb_create(path['init_structure'],path['final_structure'])\n",
    "    nebp.save_neb_as_poscar(images,filename=f'poscar_{i}.vasp',mobile_species='Ag')"
   ]
  },
  {
   "cell_type": "code",
   "execution_count": 8,
   "metadata": {},
   "outputs": [],
   "source": [
    "!open poscar_*.vasp "
   ]
  },
  {
   "cell_type": "code",
   "execution_count": null,
   "metadata": {},
   "outputs": [],
   "source": [
    "from chgnet.model import CHGNetCalculator\n",
    "from nebula.relax import NEBulaRelax\n",
    "\n",
    "cnc = CHGNetCalculator()\n",
    "nebrelax = NEBulaRelax(asecalculator = cnc)\n",
    "energy, fstruct = nebrelax.relax(supercell)"
   ]
  },
  {
   "cell_type": "code",
   "execution_count": null,
   "metadata": {},
   "outputs": [],
   "source": [
    "ineb = InterstitialNEB()\n",
    "possibilities = ineb.get_interstitial_neb_mappings(\n",
    "    supercell = fstruct,\n",
    "    desired_interstitial_specie='Ag',\n",
    "    neb_distance_cutoff = 4,\n",
    ")"
   ]
  },
  {
   "cell_type": "code",
   "execution_count": null,
   "metadata": {},
   "outputs": [],
   "source": [
    "ims = []\n",
    "for poss in possibilities.values():\n",
    "    _images = nebrelax.nebrun(poss['init_structure'],poss['final_structure'],relax_endpoints=True) #\n",
    "    ims.append(_images)"
   ]
  },
  {
   "cell_type": "code",
   "execution_count": null,
   "metadata": {},
   "outputs": [],
   "source": [
    "from nebula.plotting import NEBulaPlotter\n",
    "import seaborn as sns \n",
    "import matplotlib.pyplot as plt \n",
    "\n",
    "sns.set_style('darkgrid')\n",
    "sns.set_palette('pastel')\n",
    "\n",
    "fig,ax = plt.subplots(figsize=(6,6),dpi=100)\n",
    "nebplot = NEBulaPlotter()\n",
    "\n",
    "for i,neb in enumerate(ims):\n",
    "    nebplot.nebanalysis(neb)\n",
    "    ax = nebplot.plot_neb(ax=ax)"
   ]
  },
  {
   "cell_type": "markdown",
   "metadata": {},
   "source": [
    "#### 1. Initialise INeb and relax using CHGNet (optional)"
   ]
  },
  {
   "cell_type": "code",
   "execution_count": null,
   "metadata": {},
   "outputs": [],
   "source": [
    "ineb = INeb()\n",
    "energy,structure = ineb.chgnet_relax(structure=struct,**{'steps':1,'fmax':0.1,'relax_model':'MDMin'})\n",
    "energy"
   ]
  },
  {
   "cell_type": "markdown",
   "metadata": {},
   "source": [
    "### 2. generate interstitial mappings using Doped (https://github.com/SMTG-Bham/doped)"
   ]
  },
  {
   "cell_type": "code",
   "execution_count": null,
   "metadata": {},
   "outputs": [],
   "source": [
    "mappings = ineb.get_interstitial_neb_mappings(structure,relax_with_chgnet=False)"
   ]
  },
  {
   "cell_type": "markdown",
   "metadata": {},
   "source": [
    "### 3. generate interstitialcy mappings based on the interstitial pathways found"
   ]
  },
  {
   "cell_type": "code",
   "execution_count": null,
   "metadata": {},
   "outputs": [],
   "source": [
    "mappings_intcy = ineb.get_interstitialcy_neb_mappings(structure,passthrough_search_radius=3)"
   ]
  },
  {
   "cell_type": "code",
   "execution_count": null,
   "metadata": {},
   "outputs": [],
   "source": [
    "'''\n",
    "save the interstitial images as POSCAR files to run with VASP \n",
    "'''\n",
    "# ineb.save_interstitial_VASP(location='interstitial',nimages=5)"
   ]
  },
  {
   "cell_type": "code",
   "execution_count": null,
   "metadata": {},
   "outputs": [],
   "source": [
    "'''\n",
    "save the interstitialcy images as POSCAR files to run with VASP \n",
    "'''\n",
    "# ineb.save_interstitialcy_VASP(location='interstitialcy',nimages=5)"
   ]
  },
  {
   "cell_type": "markdown",
   "metadata": {},
   "source": [
    "### 4. you can also run a simple NEB using CHGNet (https://chgnet.lbl.gov) as the calculator through ASE (https://wiki.fysik.dtu.dk/ase/). "
   ]
  },
  {
   "cell_type": "markdown",
   "metadata": {},
   "source": [
    "#### 4a Interstitial NEB"
   ]
  },
  {
   "cell_type": "code",
   "execution_count": null,
   "metadata": {},
   "outputs": [],
   "source": [
    "'''relax the end points first '''\n",
    "_,ii = ineb.chgnet_relax(mappings[2592]['init_structure'],fmax=0.5)\n",
    "_,ff = ineb.chgnet_relax(mappings[2592]['final_structure'],fmax=0.5)"
   ]
  },
  {
   "cell_type": "code",
   "execution_count": null,
   "metadata": {},
   "outputs": [],
   "source": [
    "'''now the NEB calcualtion'''\n",
    "neb = ineb.chgnet_nebrun(ii,ff,nimages=3,fmax=0.5)"
   ]
  },
  {
   "cell_type": "code",
   "execution_count": null,
   "metadata": {},
   "outputs": [],
   "source": [
    "'''and now plot the result'''\n",
    "try:\n",
    "    import seaborn as sns\n",
    "    sns.set_style('darkgrid')\n",
    "    sns.set_palette('pastel')\n",
    "except Exception:\n",
    "    pass \n",
    "import matplotlib.pyplot as plt \n",
    "from ase.neb import NEBTools\n",
    "fig,ax = plt.subplots(figsize=(4,4),dpi=100)\n",
    "nebtools = NEBTools(neb)\n",
    "Ef, dE = nebtools.get_barrier()\n",
    "fit = nebtools.get_fit()\n",
    "ax.plot(fit[2], fit[3])\n",
    "ax.plot(fit[0], fit[1], **{'marker': 'o',\n",
    "                           'linestyle': 'None',\n",
    "                           'color': 'grey',\n",
    "                           'markerfacecolor': 'white',\n",
    "                           'markersize': 5})\n",
    "ax.set_ylabel('energy (eV)')\n",
    "ax.set_xlabel('path coordinate (arb. units)')\n",
    "plt.show()"
   ]
  },
  {
   "cell_type": "markdown",
   "metadata": {},
   "source": [
    "#### 4b Interstitialcy NEB"
   ]
  },
  {
   "cell_type": "code",
   "execution_count": null,
   "metadata": {},
   "outputs": [],
   "source": [
    "'''relax the end points first '''\n",
    "_,ii = ineb.chgnet_relax(mappings_intcy[2592][0]['init_structure'],fmax=0.5)\n",
    "_,ff = ineb.chgnet_relax(mappings_intcy[2592][0]['final_structure'],fmax=0.5)"
   ]
  },
  {
   "cell_type": "code",
   "execution_count": null,
   "metadata": {},
   "outputs": [],
   "source": [
    "'''now the NEB calcualtion'''\n",
    "neb_intcy = ineb.chgnet_nebrun(ii,ff,nimages=3,fmax=0.5)"
   ]
  },
  {
   "cell_type": "code",
   "execution_count": null,
   "metadata": {},
   "outputs": [],
   "source": [
    "'''and now plot the result'''\n",
    "try:\n",
    "    import seaborn as sns\n",
    "    sns.set_style('darkgrid')\n",
    "    sns.set_palette('pastel')\n",
    "except Exception:\n",
    "    pass \n",
    "import matplotlib.pyplot as plt \n",
    "from ase.neb import NEBTools\n",
    "fig,ax = plt.subplots(figsize=(4,4),dpi=100)\n",
    "nebtools = NEBTools(neb_intcy)\n",
    "Ef, dE = nebtools.get_barrier()\n",
    "fit = nebtools.get_fit()\n",
    "ax.plot(fit[2], fit[3])\n",
    "ax.plot(fit[0], fit[1], **{'marker': 'o',\n",
    "                           'linestyle': 'None',\n",
    "                           'color': 'grey',\n",
    "                           'markerfacecolor': 'white',\n",
    "                           'markersize': 5})\n",
    "ax.set_ylabel('energy (eV)')\n",
    "ax.set_xlabel('path coordinate (arb. units)')\n",
    "plt.show()"
   ]
  },
  {
   "cell_type": "markdown",
   "metadata": {},
   "source": [
    "#### 4c plot them together"
   ]
  },
  {
   "cell_type": "code",
   "execution_count": null,
   "metadata": {},
   "outputs": [],
   "source": [
    "'''and now plot the result'''\n",
    "try:\n",
    "    import seaborn as sns\n",
    "    sns.set_style('darkgrid')\n",
    "    sns.set_palette('pastel')\n",
    "except Exception:\n",
    "    pass \n",
    "import matplotlib.pyplot as plt \n",
    "from ase.neb import NEBTools\n",
    "\n",
    "labels = {0:'interstitial',1:'interstitialcy'}\n",
    "\n",
    "fig,ax = plt.subplots(figsize=(4,4),dpi=100)\n",
    "for i,calc in enumerate([neb,neb_intcy]):\n",
    "    nebtools = NEBTools(calc)\n",
    "    Ef, dE = nebtools.get_barrier()\n",
    "    fit = nebtools.get_fit()\n",
    "    ax.plot(fit[2], fit[3],label=labels[i])\n",
    "    ax.plot(fit[0], fit[1], **{'marker': 'o',\n",
    "                               'linestyle': 'None',\n",
    "                               'color': 'grey',\n",
    "                               'markerfacecolor': 'white',\n",
    "                               'markersize': 5})\n",
    "ax.set_ylabel('energy (eV)')\n",
    "ax.set_xlabel('path coordinate (arb. units)')\n",
    "ax.legend(edgecolor='black')\n",
    "plt.show()"
   ]
  }
 ],
 "metadata": {
  "kernelspec": {
   "display_name": "py312",
   "language": "python",
   "name": "python3"
  },
  "language_info": {
   "codemirror_mode": {
    "name": "ipython",
    "version": 3
   },
   "file_extension": ".py",
   "mimetype": "text/x-python",
   "name": "python",
   "nbconvert_exporter": "python",
   "pygments_lexer": "ipython3",
   "version": "3.12.2"
  }
 },
 "nbformat": 4,
 "nbformat_minor": 2
}
