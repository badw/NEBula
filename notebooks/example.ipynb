{
 "cells": [
  {
   "cell_type": "code",
   "execution_count": 92,
   "metadata": {},
   "outputs": [],
   "source": [
    "import numpy as np \n",
    "import pandas as pd \n",
    "import os\n",
    "import warnings \n",
    "import pickle\n",
    "import copy\n",
    "import sys\n",
    "import io \n",
    "from contextlib import contextmanager\n",
    "import itertools as it \n",
    "\n",
    "from pymatgen.core import Structure \n",
    "from pymatgen.io.ase import AseAtomsAdaptor\n",
    "\n",
    "from ase.mep import NEB \n",
    "from ase.optimize import MDMin,BFGS, BFGSLineSearch\n",
    "from ase.mep import NEBTools \n",
    "\n",
    "from doped.generation import DefectsGenerator\n",
    "\n",
    "from chgnet.model.dynamics import CHGNetCalculator"
   ]
  },
  {
   "cell_type": "code",
   "execution_count": 365,
   "metadata": {},
   "outputs": [],
   "source": [
    "class INeb:\n",
    "    '''class for setting up interstitial and interstitialcy NEBs'''\n",
    "    def __init__(self,relax_with_chgnet=True,\n",
    "                 **chgnet_kws):\n",
    "        '''need more inits'''\n",
    "        if relax_with_chgnet:\n",
    "            self.cnc = CHGNetCalculator(**chgnet_kws)\n",
    "\n",
    "        self.relax_models = {'MDMin': MDMin,\n",
    "                             'BFGS': BFGS,\n",
    "                             'BFGSLineSearch': BFGSLineSearch}\n",
    "        \n",
    "    @contextmanager\n",
    "    def redirect_stdout(self,f):\n",
    "        try:\n",
    "            _stdout = sys.stdout\n",
    "            sys.stdout = f\n",
    "            yield\n",
    "        finally:\n",
    "            sys.stdout = _stdout\n",
    "\n",
    "    def chgnet_relax(self,\n",
    "                     structure,\n",
    "                     fmax=0.1,\n",
    "                     steps=1000,\n",
    "                     relax_model='MDMin',\n",
    "                     **relax_kws):\n",
    "        \n",
    "        self.chosen_relax_model = self.relax_models[relax_model] # this is so that things are consistent between this and NEB\n",
    "        atoms = AseAtomsAdaptor.get_atoms(\n",
    "            copy.deepcopy(structure)\n",
    "        )  # convert pymatgen to ase\n",
    "        atoms.calc = self.cnc\n",
    "        dyn = self.relax_models[relax_model](atoms)\n",
    "        dyn.run(fmax=fmax, steps=steps,**relax_kws)\n",
    "        energy = atoms.get_potential_energy()\n",
    "        struct = AseAtomsAdaptor.get_structure(atoms)\n",
    "        #fstruct = struct.get_sorted_structure()\n",
    "        return (energy, struct)\n",
    "    \n",
    "    def chgnet_nebrun(self,\n",
    "                      init_structure,\n",
    "                      final_structure,\n",
    "                      fmax=0.1,\n",
    "                      nimages=5,\n",
    "                      climb=True,\n",
    "                      maxstep=200):\n",
    "        \n",
    "        init_atoms = AseAtomsAdaptor.get_atoms(init_structure)\n",
    "        final_atoms = AseAtomsAdaptor.get_atoms(final_structure)\n",
    "        images = [init_atoms.copy() for x in range(nimages+1)]\n",
    "        images.append(final_atoms.copy())\n",
    "        for image in images:\n",
    "            image.calc = self.cnc\n",
    "        neb = NEB(images,climb=climb,allow_shared_calculator=True) # uses a shared calculator - perhaps a singlecalculatorNEb is more effective?\n",
    "        neb.interpolate()\n",
    "        dyn = self.chosen_relax_model(neb)\n",
    "        dyn.run(fmax=fmax,steps=maxstep)\n",
    "        return(images)\n",
    "\n",
    "    def neb_create(self,\n",
    "                   init_structure,\n",
    "                   final_structure,\n",
    "                   nimages=5):\n",
    "        init_atoms = AseAtomsAdaptor.get_atoms(init_structure)\n",
    "        final_atoms = AseAtomsAdaptor.get_atoms(final_structure)\n",
    "        images = [init_atoms.copy()]\n",
    "        images = [init_atoms.copy() for x in range(nimages)]\n",
    "        images.append(final_atoms.copy())\n",
    "        neb = NEB(images)\n",
    "        neb.interpolate()\n",
    "        return(neb.images)\n",
    "    \n",
    "    def get_interstitial_neb_mappings(self,\n",
    "                                      structure,\n",
    "                                      relax_with_chgnet=False,\n",
    "                                      desired_interstitial='Li',\n",
    "                                      neb_distance_cutoff=3,\n",
    "                                      **relax_kws):\n",
    "        if relax_with_chgnet:\n",
    "            _,struct = self.chgnet_relax(structure,**relax_kws)\n",
    "        else:\n",
    "            struct = copy.deepcopy(structure)\n",
    "        warnings.simplefilter('ignore')\n",
    "\n",
    "        print('running doped...')\n",
    "        with self.redirect_stdout(io.StringIO()):\n",
    "            defect_gen = DefectsGenerator(struct,generate_supercell=False,interstitial_gen_kwargs={'stol':0.5})\n",
    "        \n",
    "        interstitial_keys = [x for x in list(defect_gen.defect_entries) \n",
    "                             if '{}_i'.format(desired_interstitial) in x and '_0'in x] \n",
    "        \n",
    "        print('''\n",
    "{} interstitial(s) found from doped:\n",
    " - {}\n",
    "            '''.format(len(interstitial_keys),interstitial_keys))\n",
    "        \n",
    "        #istructures = {x:defect_gen.defect_entries[x].defect_supercell for x in interstitial_keys}\n",
    "\n",
    "        sites = {}\n",
    "        for x in interstitial_keys:\n",
    "            equivalent_sites = defect_gen.defect_entries[x].equivalent_supercell_sites\n",
    "            sites[x] = equivalent_sites\n",
    "\n",
    "        list_of_sites = [item for row in [sites[x] for x in sites] for item in row]\n",
    "        combinations = [x for x in list(it.combinations_with_replacement(list_of_sites,2)) \n",
    "                        if not x[0] == x[1]]\n",
    "        \n",
    "        within_cutoff = []\n",
    "        for combination in combinations:\n",
    "            distance = combination[0].distance(combination[1])\n",
    "            if distance <= neb_distance_cutoff:\n",
    "                within_cutoff.append(combination)\n",
    "\n",
    "        mappings = {}\n",
    "\n",
    "        for i,combination in enumerate(within_cutoff):\n",
    "            _mapping = {}\n",
    "            for site in sites:\n",
    "                coords = [x.frac_coords for x in sites[site]]\n",
    "                is_in_list_0 = np.any(np.all(combination[0].frac_coords == coords, axis=1))\n",
    "                is_in_list_1 = np.any(np.all(combination[1].frac_coords == coords, axis=1))\n",
    "                if is_in_list_0:\n",
    "                    _mapping[0] = site\n",
    "                if is_in_list_1:\n",
    "                    _mapping[1] = site    \n",
    "\n",
    "            av = [np.abs(x) for x in np.round(combination[0].    frac_coords-combination[1].frac_coords,1)]\n",
    "            direction = []\n",
    "            if av[0]:\n",
    "                direction.append('a') \n",
    "            if av[1]:\n",
    "                direction.append('b')\n",
    "            if av[2]:\n",
    "                direction.append('c')        \n",
    "\n",
    "            if _mapping[0] == _mapping[1]:\n",
    "                same_site = True\n",
    "            else:\n",
    "                same_site = False\n",
    "            mappings[i] = {'mappings':_mapping,\n",
    "                           'sites':combination,\n",
    "                           'direction':''.join(direction),\n",
    "                           'vector':av,\n",
    "                           'same_site':same_site}\n",
    "            \n",
    "        filtered_mappings = {k:\n",
    "                                 {'site1': v['mappings'][0],\n",
    "                                  'site2': v['mappings'][1],\n",
    "                                  'direction': v['direction']\n",
    "                                  }\n",
    "                                 for k, v in mappings.items()\n",
    "                                 }\n",
    "            \n",
    "        df = pd.DataFrame(filtered_mappings).T.drop_duplicates()\n",
    "        new_mappings = {}\n",
    "        for k in df.index:\n",
    "            new_mappings[k] = mappings[k]\n",
    "        print('''\n",
    "{} pathways found:\n",
    "{}\n",
    "              '''.format(len(new_mappings),str(df)))\n",
    "        \n",
    "        \n",
    "\n",
    "        def gen_structure_from_mapping(bulk_structure,site1,site2):\n",
    "            initial = copy.deepcopy(bulk_structure)\n",
    "            final = copy.deepcopy(bulk_structure)\n",
    "            initial.append(site1.specie,site1.frac_coords)\n",
    "            final.append(site2.specie,site2.frac_coords)\n",
    "            return(initial,final)\n",
    "        \n",
    "\n",
    "        for k,v in new_mappings.items():\n",
    "            i,f = gen_structure_from_mapping(structure,v['sites'][0],v['sites'][1])\n",
    "            new_mappings[k]['init_structure'] = i\n",
    "            new_mappings[k]['final_structure'] = f\n",
    "\n",
    "        self.interstitial_mappings = new_mappings\n",
    "\n",
    "        return(new_mappings)\n",
    "    \n",
    "\n",
    "    def get_interstitialcy_neb_mappings(self,\n",
    "                                      structure,\n",
    "                                      relax_with_chgnet=False,\n",
    "                                      desired_interstitial='Li',\n",
    "                                      neb_distance_cutoff=3,\n",
    "                                      passthrough_search_radius=3.5,\n",
    "                                      **relax_kws):\n",
    "        \n",
    "        if not self.interstitial_mappings:\n",
    "            _ = self.get_interstitial_neb_mappings(structure,\n",
    "                                                   relax_with_chgnet,\n",
    "                                                   desired_interstitial,\n",
    "                                                   neb_distance_cutoff,\n",
    "                                                   **relax_kws)\n",
    "        \n",
    "        interstitialcy_nebs = {}\n",
    "        struct = copy.deepcopy(structure)\n",
    "        for k in self.interstitial_mappings:\n",
    "            ipoint = self.interstitial_mappings[k]['sites'][0].coords \n",
    "            fpoint = self.interstitial_mappings[k]['sites'][1].coords\n",
    "\n",
    "            nn1 = [x for x in struct.get_neighbors_in_shell(origin=ipoint,r=0,dr=passthrough_search_radius) \n",
    "                   if str(x.specie) == desired_interstitial]  \n",
    "            nn2 = [x for x in struct.get_neighbors_in_shell(origin=fpoint,r=0,dr=passthrough_search_radius) \n",
    "                   if str(x.specie) == desired_interstitial] \n",
    "            overlap = [x for x in nn2 if x in nn1]\n",
    "\n",
    "            _interstitialcy_nebs = {}\n",
    "            for interstitialcy_num,index in enumerate([x.index for x in overlap]):\n",
    "                init_site = self.interstitial_mappings[k]['sites'][0]\n",
    "                final_site = self.interstitial_mappings[k]['sites'][1]\n",
    "                \n",
    "                init_struct = copy.deepcopy(struct)\n",
    "                final_struct = copy.deepcopy(struct)\n",
    "                \n",
    "                init_struct.append(init_site.specie,init_site.frac_coords)\n",
    "                passthrough = overlap[interstitialcy_num]\n",
    "                init_struct.remove_sites([passthrough.index])\n",
    "                init_struct.append(passthrough.specie,passthrough.frac_coords) \n",
    "                \n",
    "                passthrough = overlap[interstitialcy_num]\n",
    "                final_struct.remove_sites([passthrough.index])\n",
    "                final_struct.append(passthrough.specie,passthrough.frac_coords)\n",
    "                final_struct.append(final_site.specie,final_site.frac_coords)\n",
    "                \n",
    "                _interstitialcy_nebs[index] = {'mappings': self.interstitial_mappings[k]['mappings'],\n",
    "                                               'sites': self.interstitial_mappings[k]['sites'],\n",
    "                                               'direction': self.interstitial_mappings[k]['direction'],\n",
    "                                               'vector': self.interstitial_mappings[k]['vector'],\n",
    "                                               'same_site': self.interstitial_mappings[k]['same_site'],\n",
    "                                               'passthrough_atom':index,\n",
    "                                               'init_structure': init_struct,\n",
    "                                               'final_structure': final_struct}\n",
    "            interstitialcy_nebs[k] = _interstitialcy_nebs\n",
    "        self.interstitialcy_mappings = interstitialcy_nebs\n",
    "        total = 0 \n",
    "        for i in interstitialcy_nebs:\n",
    "            total+=len(interstitialcy_nebs[i].keys())\n",
    "        print('There are {} total interstitialcy paths:'.format(total))\n",
    "        for k,v in interstitialcy_nebs.items():\n",
    "            print('{}: {}interstitialcy paths \\n - - - passthrough indexes = {} '.format(k,len(v.keys()),list(v)))\n",
    "        return(interstitialcy_nebs)\n",
    "    \n",
    "    def save_interstitial_VASP(self,directories=True,location='.',nimages=5):\n",
    "        '''these are incomplete'''\n",
    "        if directories:\n",
    "            _directories = []\n",
    "            for i,(k,v) in enumerate(self.interstitial_mappings.items()):\n",
    "                _directory = os.path.join(location,str(k))\n",
    "                os.makedirs(_directory,exist_ok=True)\n",
    "                images = self.neb_create(self.interstitial_mappings[k]['init_structure'],\n",
    "                                        self.interstitial_mappings[k]['final_structure'],\n",
    "                                        nimages=nimages)\n",
    "                for i,image in enumerate(images):\n",
    "                    AseAtomsAdaptor.get_structure(image).to(filename=_directory+'/POSCAR_{}.vasp'.format(i),fmt='poscar')\n",
    "\n",
    "    def save_interstitialcy_VASP(self,directories=True,location='.',nimages=5):\n",
    "        if directories:\n",
    "            _directories = []\n",
    "            for i,(k,v) in enumerate(self.interstitialcy_mappings.items()):\n",
    "                for kk in v:\n",
    "                    _directory = os.path.join(location,str(k),str(kk))\n",
    "                    os.makedirs(_directory,exist_ok=True)\n",
    "                    images = self.neb_create(self.interstitialcy_mappings[k][kk]['init_structure'],\n",
    "                                        self.interstitialcy_mappings[k][kk]['final_structure'],\n",
    "                                        nimages=nimages)\n",
    "                    for i,image in enumerate(images):\n",
    "                        AseAtomsAdaptor.get_structure(image).to(filename=_directory+'/POSCAR_{}.vasp'.format(i),fmt='poscar')\n",
    "            \n",
    "\n",
    "            \n",
    "            \n"
   ]
  },
  {
   "cell_type": "code",
   "execution_count": 366,
   "metadata": {},
   "outputs": [],
   "source": [
    "struct = Structure.from_file('POSCAR_alternative.gz')*[2,2,2]"
   ]
  },
  {
   "cell_type": "code",
   "execution_count": 367,
   "metadata": {},
   "outputs": [
    {
     "name": "stdout",
     "output_type": "stream",
     "text": [
      "CHGNet v0.3.0 initialized with 412,525 parameters\n",
      "CHGNet will run on mps\n",
      "       Step     Time          Energy          fmax\n",
      "MDMin:    0 13:55:57     -928.320801        0.173616\n",
      "MDMin:    1 13:55:58     -928.344727        0.143629\n"
     ]
    },
    {
     "data": {
      "text/plain": [
       "-928.3447265625"
      ]
     },
     "execution_count": 367,
     "metadata": {},
     "output_type": "execute_result"
    }
   ],
   "source": [
    "ineb = INeb()\n",
    "energy,structure = ineb.chgnet_relax(structure=struct,**{'steps':1,'fmax':0.1,'relax_model':'MDMin'})\n",
    "energy"
   ]
  },
  {
   "cell_type": "code",
   "execution_count": 368,
   "metadata": {},
   "outputs": [
    {
     "name": "stderr",
     "output_type": "stream",
     "text": [
      "Generating interstitials: 30.0%|███       | [00:00,  388.45it/s]"
     ]
    },
    {
     "name": "stdout",
     "output_type": "stream",
     "text": [
      "running doped...\n"
     ]
    },
    {
     "name": "stderr",
     "output_type": "stream",
     "text": [
      "Generating DefectEntry objects: 100.0%|██████████| [00:14,   7.05it/s]\n"
     ]
    },
    {
     "name": "stdout",
     "output_type": "stream",
     "text": [
      "\n",
      "2 interstitial(s) found from doped:\n",
      " - ['Li_i_C1_O1.90_0', 'Li_i_C1_Si1.74_0']\n",
      "            \n",
      "\n",
      "5 pathways found:\n",
      "                site1             site2 direction\n",
      "0     Li_i_C1_O1.90_0   Li_i_C1_O1.90_0         c\n",
      "2     Li_i_C1_O1.90_0   Li_i_C1_O1.90_0        ab\n",
      "4     Li_i_C1_O1.90_0  Li_i_C1_Si1.74_0        ab\n",
      "5     Li_i_C1_O1.90_0  Li_i_C1_Si1.74_0         b\n",
      "128  Li_i_C1_Si1.74_0  Li_i_C1_Si1.74_0         c\n",
      "              \n"
     ]
    }
   ],
   "source": [
    "mappings = ineb.get_interstitial_neb_mappings(structure,relax_with_chgnet=False)"
   ]
  },
  {
   "cell_type": "code",
   "execution_count": 369,
   "metadata": {},
   "outputs": [
    {
     "name": "stdout",
     "output_type": "stream",
     "text": [
      "There are 8 total interstitialcy paths:\n",
      "0: 2interstitialcy paths \n",
      " - - - passthrough indexes = [20, 8] \n",
      "2: 2interstitialcy paths \n",
      " - - - passthrough indexes = [0, 8] \n",
      "4: 1interstitialcy paths \n",
      " - - - passthrough indexes = [0] \n",
      "5: 2interstitialcy paths \n",
      " - - - passthrough indexes = [24, 8] \n",
      "128: 1interstitialcy paths \n",
      " - - - passthrough indexes = [16] \n"
     ]
    }
   ],
   "source": [
    "mappings_cy = ineb.get_interstitialcy_neb_mappings(structure,passthrough_search_radius=3)"
   ]
  },
  {
   "cell_type": "code",
   "execution_count": 370,
   "metadata": {},
   "outputs": [
    {
     "name": "stdout",
     "output_type": "stream",
     "text": [
      "rm: interstitialcy: is a directory\n"
     ]
    }
   ],
   "source": [
    "! rm interstitialcy"
   ]
  },
  {
   "cell_type": "code",
   "execution_count": 371,
   "metadata": {},
   "outputs": [],
   "source": [
    "ineb.save_interstitial_VASP(location='interstitial',nimages=5)"
   ]
  },
  {
   "cell_type": "code",
   "execution_count": 372,
   "metadata": {},
   "outputs": [],
   "source": [
    "ineb.save_interstitialcy_VASP(location='interstitialcy',nimages=5)"
   ]
  },
  {
   "cell_type": "code",
   "execution_count": 270,
   "metadata": {},
   "outputs": [
    {
     "name": "stdout",
     "output_type": "stream",
     "text": [
      "       Step     Time          Energy          fmax\n",
      "MDMin:    0 13:20:38     -926.798744        6.716119\n",
      "MDMin:    1 13:20:38     -928.643181        3.344728\n",
      "MDMin:    2 13:20:38     -929.482943        1.393430\n",
      "MDMin:    3 13:20:38     -929.518743        1.987252\n",
      "MDMin:    4 13:20:39     -929.770450        0.867945\n",
      "MDMin:    5 13:20:39     -929.885231        0.754559\n",
      "MDMin:    6 13:20:40     -929.944160        0.738221\n",
      "MDMin:    7 13:20:40     -929.966919        0.726209\n",
      "MDMin:    8 13:20:41     -930.007210        0.721112\n",
      "MDMin:    9 13:20:41     -930.081824        0.709626\n",
      "MDMin:   10 13:20:42     -930.114241        0.702341\n",
      "MDMin:   11 13:20:43     -930.147088        0.673545\n",
      "MDMin:   12 13:20:44     -930.149610        0.657354\n",
      "MDMin:   13 13:20:45     -930.197036        0.663017\n",
      "MDMin:   14 13:20:45     -930.232282        0.674119\n",
      "MDMin:   15 13:20:45     -930.257071        0.690599\n",
      "MDMin:   16 13:20:46     -930.272880        0.686693\n",
      "MDMin:   17 13:20:46     -930.290780        0.686212\n",
      "MDMin:   18 13:20:46     -930.327257        0.686954\n",
      "MDMin:   19 13:20:47     -930.352108        0.694802\n",
      "MDMin:   20 13:20:47     -930.375236        0.677880\n",
      "MDMin:   21 13:20:47     -930.382679        0.641390\n",
      "MDMin:   22 13:20:48     -930.404393        0.633807\n",
      "MDMin:   23 13:20:48     -930.438962        0.624608\n",
      "MDMin:   24 13:20:48     -930.456678        0.606323\n",
      "MDMin:   25 13:20:49     -930.472610        0.586793\n",
      "MDMin:   26 13:20:49     -930.476977        0.570364\n",
      "MDMin:   27 13:20:49     -930.506872        0.561810\n",
      "MDMin:   28 13:20:50     -930.525202        0.556497\n",
      "MDMin:   29 13:20:50     -930.541257        0.544840\n",
      "MDMin:   30 13:20:51     -930.547839        0.537253\n",
      "MDMin:   31 13:20:51     -930.562294        0.521485\n",
      "MDMin:   32 13:20:51     -930.585176        0.522147\n",
      "MDMin:   33 13:20:51     -930.597971        0.513705\n",
      "MDMin:   34 13:20:52     -930.610581        0.489876\n",
      "       Step     Time          Energy          fmax\n",
      "MDMin:    0 13:20:52     -926.798744        6.716124\n",
      "MDMin:    1 13:20:52     -928.643181        3.344724\n",
      "MDMin:    2 13:20:52     -929.482943        1.393459\n",
      "MDMin:    3 13:20:53     -929.518682        1.987101\n",
      "MDMin:    4 13:20:53     -929.770450        0.867897\n",
      "MDMin:    5 13:20:53     -929.885231        0.754568\n",
      "MDMin:    6 13:20:53     -929.944160        0.738213\n",
      "MDMin:    7 13:20:54     -929.966858        0.726111\n",
      "MDMin:    8 13:20:54     -930.007210        0.721117\n",
      "MDMin:    9 13:20:54     -930.081824        0.709637\n",
      "MDMin:   10 13:20:55     -930.114118        0.702341\n",
      "MDMin:   11 13:20:55     -930.147027        0.673548\n",
      "MDMin:   12 13:20:55     -930.149672        0.657348\n",
      "MDMin:   13 13:20:55     -930.197036        0.663019\n",
      "MDMin:   14 13:20:55     -930.232344        0.674122\n",
      "MDMin:   15 13:20:56     -930.257071        0.690605\n",
      "MDMin:   16 13:20:56     -930.272819        0.686690\n",
      "MDMin:   17 13:20:56     -930.290842        0.686208\n",
      "MDMin:   18 13:20:56     -930.327318        0.686951\n",
      "MDMin:   19 13:20:57     -930.352108        0.694802\n",
      "MDMin:   20 13:20:57     -930.375236        0.677885\n",
      "MDMin:   21 13:20:57     -930.382679        0.641390\n",
      "MDMin:   22 13:20:57     -930.404393        0.633801\n",
      "MDMin:   23 13:20:58     -930.438962        0.624595\n",
      "MDMin:   24 13:20:58     -930.456678        0.606332\n",
      "MDMin:   25 13:20:58     -930.472610        0.586794\n",
      "MDMin:   26 13:20:58     -930.477038        0.570352\n",
      "MDMin:   27 13:20:59     -930.506810        0.561802\n",
      "MDMin:   28 13:20:59     -930.525202        0.556473\n",
      "MDMin:   29 13:20:59     -930.541257        0.544846\n",
      "MDMin:   30 13:21:00     -930.547900        0.537269\n",
      "MDMin:   31 13:21:00     -930.562232        0.521485\n",
      "MDMin:   32 13:21:00     -930.585238        0.522139\n",
      "MDMin:   33 13:21:00     -930.598032        0.513705\n",
      "MDMin:   34 13:21:00     -930.610581        0.489948\n"
     ]
    }
   ],
   "source": [
    "_,ii = ineb.chgnet_relax(mappings_cy[0][0]['init_structure'],fmax=0.5)\n",
    "_,ff = ineb.chgnet_relax(mappings_cy[0][0]['final_structure'],fmax=0.5)"
   ]
  },
  {
   "cell_type": "code",
   "execution_count": 271,
   "metadata": {},
   "outputs": [
    {
     "name": "stdout",
     "output_type": "stream",
     "text": [
      "       Step     Time          Energy          fmax\n",
      "MDMin:    0 13:21:02     -927.459998       10.138279\n",
      "MDMin:    1 13:21:05     -928.857797        4.648933\n",
      "MDMin:    2 13:21:08     -928.648164        5.060401\n",
      "MDMin:    3 13:21:10     -929.463382        1.864233\n",
      "MDMin:    4 13:21:13     -929.211860        6.466248\n",
      "MDMin:    5 13:21:16     -929.301421        3.650022\n",
      "MDMin:    6 13:21:19     -929.703279        1.335569\n",
      "MDMin:    7 13:21:21     -929.548023        3.964722\n",
      "MDMin:    8 13:21:24     -929.699096        1.991686\n",
      "MDMin:    9 13:21:27     -929.809633        0.366766\n"
     ]
    }
   ],
   "source": [
    "neb = ineb.chgnet_nebrun(ii,ff,nimages=3,fmax=1)"
   ]
  },
  {
   "cell_type": "code",
   "execution_count": 272,
   "metadata": {},
   "outputs": [
    {
     "data": {
      "text/plain": [
       "[<matplotlib.lines.Line2D at 0x36e98d3d0>]"
      ]
     },
     "execution_count": 272,
     "metadata": {},
     "output_type": "execute_result"
    },
    {
     "data": {
      "image/png": "[encoded data removed]",
      "text/plain": [
       "<Figure size 400x400 with 1 Axes>"
      ]
     },
     "metadata": {},
     "output_type": "display_data"
    }
   ],
   "source": [
    "import matplotlib.pyplot as plt \n",
    "fig,ax = plt.subplots(figsize=(4,4),dpi=100)\n",
    "nebtools = NEBTools(neb)\n",
    "Ef, dE = nebtools.get_barrier()\n",
    "fit = nebtools.get_fit()\n",
    "ax.plot(fit[2], fit[3])\n",
    "ax.plot(fit[0], fit[1],linestyle='none',marker='o')"
   ]
  },
  {
   "cell_type": "code",
   "execution_count": 232,
   "metadata": {},
   "outputs": [],
   "source": [
    "nebimages = ineb.neb_create(ii,ff,nimages=5)"
   ]
  },
  {
   "cell_type": "code",
   "execution_count": 234,
   "metadata": {},
   "outputs": [],
   "source": [
    "for i,image in enumerate(nebimages):\n",
    "    AseAtomsAdaptor().get_structure(image).to(filename='{}.vasp'.format(i),fmt='poscar')"
   ]
  },
  {
   "cell_type": "code",
   "execution_count": 235,
   "metadata": {},
   "outputs": [],
   "source": [
    "! open {0..5}.vasp "
   ]
  },
  {
   "cell_type": "code",
   "execution_count": null,
   "metadata": {},
   "outputs": [],
   "source": [
    "ineb.interstitialcy_mappings"
   ]
  },
  {
   "cell_type": "code",
   "execution_count": 286,
   "metadata": {},
   "outputs": [
    {
     "data": {
      "text/plain": [
       "['./0/0', './0/8', './2/20', './2/8', './4/20', './4/0', './128/20']"
      ]
     },
     "execution_count": 286,
     "metadata": {},
     "output_type": "execute_result"
    }
   ],
   "source": [
    "numbers = []\n",
    "for i,(k,v) in enumerate(ineb.interstitialcy_mappings.items()):\n",
    "    for kk in v:\n",
    "        numbers.append(os.path.join('./',str(k),str(kk)))\n",
    "\n",
    "    \n",
    "numbers"
   ]
  },
  {
   "cell_type": "code",
   "execution_count": null,
   "metadata": {},
   "outputs": [],
   "source": []
  }
 ],
 "metadata": {
  "kernelspec": {
   "display_name": "py311",
   "language": "python",
   "name": "python3"
  },
  "language_info": {
   "codemirror_mode": {
    "name": "ipython",
    "version": 3
   },
   "file_extension": ".py",
   "mimetype": "text/x-python",
   "name": "python",
   "nbconvert_exporter": "python",
   "pygments_lexer": "ipython3",
   "version": "3.11.5"
  }
 },
 "nbformat": 4,
 "nbformat_minor": 2
}
