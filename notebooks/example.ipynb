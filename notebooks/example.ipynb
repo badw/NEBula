{
 "cells": [
  {
   "cell_type": "code",
   "execution_count": 30,
   "metadata": {},
   "outputs": [],
   "source": [
    "from inebs.ineb import INeb\n",
    "\n",
    "from pymatgen.core import Structure\n",
    "\n",
    "import crystal_toolkit"
   ]
  },
  {
   "cell_type": "code",
   "execution_count": 31,
   "metadata": {},
   "outputs": [
    {
     "data": {
      "text/html": [
       "\n",
       "        <iframe\n",
       "            width=\"100%\"\n",
       "            height=\"650\"\n",
       "            src=\"http://127.0.0.1:8884/\"\n",
       "            frameborder=\"0\"\n",
       "            allowfullscreen\n",
       "            \n",
       "        ></iframe>\n",
       "        "
      ],
      "text/plain": [
       "<IPython.lib.display.IFrame at 0x32577ce90>"
      ]
     },
     "metadata": {},
     "output_type": "display_data"
    }
   ],
   "source": [
    "struct = Structure.from_file('POSCAR')*[3,3,3]\n",
    "struct"
   ]
  },
  {
   "cell_type": "markdown",
   "metadata": {},
   "source": [
    "#### 1. Initialise INeb and relax using CHGNet (optional)"
   ]
  },
  {
   "cell_type": "code",
   "execution_count": 32,
   "metadata": {},
   "outputs": [
    {
     "name": "stdout",
     "output_type": "stream",
     "text": [
      "CHGNet v0.3.0 initialized with 412,525 parameters\n",
      "CHGNet will run on mps\n",
      "       Step     Time          Energy          fmax\n",
      "MDMin:    0 14:55:22     -615.997753        0.000001\n"
     ]
    },
    {
     "data": {
      "text/plain": [
       "-615.9977531433105"
      ]
     },
     "execution_count": 32,
     "metadata": {},
     "output_type": "execute_result"
    }
   ],
   "source": [
    "ineb = INeb()\n",
    "energy,structure = ineb.chgnet_relax(structure=struct,**{'steps':1,'fmax':0.1,'relax_model':'MDMin'})\n",
    "energy"
   ]
  },
  {
   "cell_type": "markdown",
   "metadata": {},
   "source": [
    "### 2. generate interstitial mappings using Doped (https://github.com/SMTG-Bham/doped)"
   ]
  },
  {
   "cell_type": "code",
   "execution_count": 33,
   "metadata": {},
   "outputs": [
    {
     "name": "stderr",
     "output_type": "stream",
     "text": [
      "Generating substitutions: 20.0%|██        | [00:00,  224.76it/s]"
     ]
    },
    {
     "name": "stdout",
     "output_type": "stream",
     "text": [
      "running doped...\n"
     ]
    },
    {
     "name": "stderr",
     "output_type": "stream",
     "text": [
      "Generating DefectEntry objects: 100.0%|██████████| [00:03,  27.48it/s]\n"
     ]
    },
    {
     "name": "stdout",
     "output_type": "stream",
     "text": [
      "\n",
      "2 interstitial(s) found from doped:\n",
      " - ['Li_i_C3v_0', 'Li_i_D4h_0']\n",
      "            \n",
      "\n",
      "10 pathways found:\n",
      "           site1       site2 direction\n",
      "0     Li_i_C3v_0  Li_i_C3v_0         c\n",
      "2     Li_i_C3v_0  Li_i_C3v_0         b\n",
      "4     Li_i_C3v_0  Li_i_C3v_0         a\n",
      "6     Li_i_C3v_0  Li_i_C3v_0        bc\n",
      "10    Li_i_C3v_0  Li_i_C3v_0        ac\n",
      "14    Li_i_C3v_0  Li_i_C3v_0        ab\n",
      "18    Li_i_C3v_0  Li_i_D4h_0       abc\n",
      "2592  Li_i_D4h_0  Li_i_D4h_0        bc\n",
      "2596  Li_i_D4h_0  Li_i_D4h_0        ac\n",
      "2808  Li_i_D4h_0  Li_i_D4h_0        ab\n",
      "              \n"
     ]
    }
   ],
   "source": [
    "mappings = ineb.get_interstitial_neb_mappings(structure,relax_with_chgnet=False)"
   ]
  },
  {
   "cell_type": "markdown",
   "metadata": {},
   "source": [
    "### 3. generate interstitialcy mappings based on the interstitial pathways found"
   ]
  },
  {
   "cell_type": "code",
   "execution_count": 34,
   "metadata": {},
   "outputs": [
    {
     "name": "stdout",
     "output_type": "stream",
     "text": [
      "There are 14 total interstitialcy paths:\n",
      "0: 2interstitialcy paths \n",
      " - - - passthrough indexes = [0, 27] \n",
      "2: 2interstitialcy paths \n",
      " - - - passthrough indexes = [0, 54] \n",
      "4: 2interstitialcy paths \n",
      " - - - passthrough indexes = [27, 54] \n",
      "6: 1interstitialcy paths \n",
      " - - - passthrough indexes = [0] \n",
      "10: 1interstitialcy paths \n",
      " - - - passthrough indexes = [27] \n",
      "14: 1interstitialcy paths \n",
      " - - - passthrough indexes = [54] \n",
      "18: 2interstitialcy paths \n",
      " - - - passthrough indexes = [27, 0] \n",
      "2592: 1interstitialcy paths \n",
      " - - - passthrough indexes = [0] \n",
      "2596: 1interstitialcy paths \n",
      " - - - passthrough indexes = [27] \n",
      "2808: 1interstitialcy paths \n",
      " - - - passthrough indexes = [54] \n"
     ]
    }
   ],
   "source": [
    "mappings_intcy = ineb.get_interstitialcy_neb_mappings(structure,passthrough_search_radius=3)"
   ]
  },
  {
   "cell_type": "code",
   "execution_count": 35,
   "metadata": {},
   "outputs": [
    {
     "data": {
      "text/plain": [
       "'\\nsave the interstitial images as POSCAR files to run with VASP \\n'"
      ]
     },
     "execution_count": 35,
     "metadata": {},
     "output_type": "execute_result"
    }
   ],
   "source": [
    "'''\n",
    "save the interstitial images as POSCAR files to run with VASP \n",
    "'''\n",
    "# ineb.save_interstitial_VASP(location='interstitial',nimages=5)"
   ]
  },
  {
   "cell_type": "code",
   "execution_count": 36,
   "metadata": {},
   "outputs": [
    {
     "data": {
      "text/plain": [
       "'\\nsave the interstitialcy images as POSCAR files to run with VASP \\n'"
      ]
     },
     "execution_count": 36,
     "metadata": {},
     "output_type": "execute_result"
    }
   ],
   "source": [
    "'''\n",
    "save the interstitialcy images as POSCAR files to run with VASP \n",
    "'''\n",
    "# ineb.save_interstitialcy_VASP(location='interstitialcy',nimages=5)"
   ]
  },
  {
   "cell_type": "markdown",
   "metadata": {},
   "source": [
    "### 4. you can also run a simple NEB using CHGNet (https://chgnet.lbl.gov) as the calculator through ASE (https://wiki.fysik.dtu.dk/ase/). "
   ]
  },
  {
   "cell_type": "code",
   "execution_count": 37,
   "metadata": {},
   "outputs": [
    {
     "name": "stdout",
     "output_type": "stream",
     "text": [
      "       Step     Time          Energy          fmax\n",
      "MDMin:    0 14:55:29     -615.276604        2.307222\n",
      "MDMin:    1 14:55:30     -615.722706        1.839513\n",
      "MDMin:    2 14:55:30     -616.709072        1.275102\n",
      "MDMin:    3 14:55:30     -617.499397        0.607010\n",
      "MDMin:    4 14:55:30     -617.797253        0.129594\n",
      "       Step     Time          Energy          fmax\n",
      "MDMin:    0 14:55:31     -615.276604        2.307220\n",
      "MDMin:    1 14:55:31     -615.722706        1.839512\n",
      "MDMin:    2 14:55:31     -616.709072        1.275113\n",
      "MDMin:    3 14:55:32     -617.499397        0.607011\n",
      "MDMin:    4 14:55:32     -617.797253        0.129594\n"
     ]
    }
   ],
   "source": [
    "'''relax the end points first '''\n",
    "_,ii = ineb.chgnet_relax(mappings[2592]['init_structure'],fmax=0.5)\n",
    "_,ff = ineb.chgnet_relax(mappings[2592]['final_structure'],fmax=0.5)"
   ]
  },
  {
   "cell_type": "code",
   "execution_count": 38,
   "metadata": {},
   "outputs": [
    {
     "name": "stdout",
     "output_type": "stream",
     "text": [
      "       Step     Time          Energy          fmax\n",
      "MDMin:    0 14:55:34     -614.716171        8.833057\n",
      "MDMin:    1 14:55:37     -616.579502        3.260986\n",
      "MDMin:    2 14:55:40     -617.248428        1.207189\n",
      "MDMin:    3 14:55:42     -617.379425        1.967841\n",
      "MDMin:    4 14:55:45     -617.535324        0.570178\n",
      "MDMin:    5 14:55:48     -617.606789        0.376217\n"
     ]
    }
   ],
   "source": [
    "'''now the NEB calcualtion'''\n",
    "neb = ineb.chgnet_nebrun(ii,ff,nimages=3,fmax=0.5)"
   ]
  },
  {
   "cell_type": "code",
   "execution_count": 39,
   "metadata": {},
   "outputs": [
    {
     "data": {
      "image/png": "[encoded data removed]",
      "text/plain": [
       "<Figure size 400x400 with 1 Axes>"
      ]
     },
     "metadata": {},
     "output_type": "display_data"
    }
   ],
   "source": [
    "'''and now plot the result'''\n",
    "try:\n",
    "    import seaborn as sns\n",
    "    sns.set_style('darkgrid')\n",
    "    sns.set_palette('pastel')\n",
    "except Exception:\n",
    "    pass \n",
    "import matplotlib.pyplot as plt \n",
    "from ase.neb import NEBTools\n",
    "fig,ax = plt.subplots(figsize=(4,4),dpi=100)\n",
    "nebtools = NEBTools(neb)\n",
    "Ef, dE = nebtools.get_barrier()\n",
    "fit = nebtools.get_fit()\n",
    "ax.plot(fit[2], fit[3])\n",
    "ax.plot(fit[0], fit[1], **{'marker': 'o',\n",
    "                           'linestyle': 'None',\n",
    "                           'color': 'grey',\n",
    "                           'markerfacecolor': 'white',\n",
    "                           'markersize': 5})\n",
    "ax.set_ylabel('energy (eV)')\n",
    "ax.set_xlabel('path coordinate (arb. units)')\n",
    "plt.show()"
   ]
  },
  {
   "cell_type": "code",
   "execution_count": 40,
   "metadata": {},
   "outputs": [
    {
     "name": "stdout",
     "output_type": "stream",
     "text": [
      "       Step     Time          Energy          fmax\n",
      "MDMin:    0 14:55:56     -615.276604        2.307220\n",
      "MDMin:    1 14:55:56     -615.722706        1.839512\n",
      "MDMin:    2 14:55:56     -616.709072        1.275107\n",
      "MDMin:    3 14:55:57     -617.499397        0.607010\n",
      "MDMin:    4 14:55:57     -617.797253        0.129592\n",
      "       Step     Time          Energy          fmax\n",
      "MDMin:    0 14:55:57     -615.276604        2.307221\n",
      "MDMin:    1 14:55:58     -615.722706        1.839510\n",
      "MDMin:    2 14:55:58     -616.709072        1.275114\n",
      "MDMin:    3 14:55:58     -617.499397        0.607012\n",
      "MDMin:    4 14:55:58     -617.797253        0.129597\n"
     ]
    }
   ],
   "source": [
    "'''relax the end points first '''\n",
    "_,ii = ineb.chgnet_relax(mappings_intcy[2592][0]['init_structure'],fmax=0.5)\n",
    "_,ff = ineb.chgnet_relax(mappings_intcy[2592][0]['final_structure'],fmax=0.5)"
   ]
  },
  {
   "cell_type": "code",
   "execution_count": 41,
   "metadata": {},
   "outputs": [
    {
     "name": "stdout",
     "output_type": "stream",
     "text": [
      "       Step     Time          Energy          fmax\n",
      "MDMin:    0 14:56:00     -617.051739        1.043803\n",
      "MDMin:    1 14:56:03     -617.177547        0.878157\n",
      "MDMin:    2 14:56:06     -617.456402        0.679376\n",
      "MDMin:    3 14:56:09     -617.655426        0.378993\n"
     ]
    }
   ],
   "source": [
    "'''now the NEB calcualtion'''\n",
    "neb_intcy = ineb.chgnet_nebrun(ii,ff,nimages=3,fmax=0.5)"
   ]
  },
  {
   "cell_type": "code",
   "execution_count": 42,
   "metadata": {},
   "outputs": [
    {
     "data": {
      "image/png": "[encoded data removed]",
      "text/plain": [
       "<Figure size 400x400 with 1 Axes>"
      ]
     },
     "metadata": {},
     "output_type": "display_data"
    }
   ],
   "source": [
    "'''and now plot the result'''\n",
    "try:\n",
    "    import seaborn as sns\n",
    "    sns.set_style('darkgrid')\n",
    "    sns.set_palette('pastel')\n",
    "except Exception:\n",
    "    pass \n",
    "import matplotlib.pyplot as plt \n",
    "from ase.neb import NEBTools\n",
    "fig,ax = plt.subplots(figsize=(4,4),dpi=100)\n",
    "nebtools = NEBTools(neb_intcy)\n",
    "Ef, dE = nebtools.get_barrier()\n",
    "fit = nebtools.get_fit()\n",
    "ax.plot(fit[2], fit[3])\n",
    "ax.plot(fit[0], fit[1], **{'marker': 'o',\n",
    "                           'linestyle': 'None',\n",
    "                           'color': 'grey',\n",
    "                           'markerfacecolor': 'white',\n",
    "                           'markersize': 5})\n",
    "ax.set_ylabel('energy (eV)')\n",
    "ax.set_xlabel('path coordinate (arb. units)')\n",
    "plt.show()"
   ]
  },
  {
   "cell_type": "code",
   "execution_count": null,
   "metadata": {},
   "outputs": [],
   "source": [
    "'''and now plot the result'''\n",
    "try:\n",
    "    import seaborn as sns\n",
    "    sns.set_style('darkgrid')\n",
    "    sns.set_palette('pastel')\n",
    "except Exception:\n",
    "    pass \n",
    "import matplotlib.pyplot as plt \n",
    "from ase.neb import NEBTools\n",
    "\n",
    "labels = {0:'interstitial',1:'interstitialcy'}\n",
    "\n",
    "fig,ax = plt.subplots(figsize=(4,4),dpi=100)\n",
    "for i,calc in enumerate([neb,neb_intcy]):\n",
    "    nebtools = NEBTools(calc)\n",
    "    Ef, dE = nebtools.get_barrier()\n",
    "    fit = nebtools.get_fit()\n",
    "    ax.plot(fit[2], fit[3],label=labels[i])\n",
    "    ax.plot(fit[0], fit[1], **{'marker': 'o',\n",
    "                               'linestyle': 'None',\n",
    "                               'color': 'grey',\n",
    "                               'markerfacecolor': 'white',\n",
    "                               'markersize': 5})\n",
    "ax.set_ylabel('energy (eV)')\n",
    "ax.set_xlabel('path coordinate (arb. units)')\n",
    "ax.legend(edgecolor='black')\n",
    "plt.show()"
   ]
  }
 ],
 "metadata": {
  "kernelspec": {
   "display_name": "py311",
   "language": "python",
   "name": "python3"
  },
  "language_info": {
   "codemirror_mode": {
    "name": "ipython",
    "version": 3
   },
   "file_extension": ".py",
   "mimetype": "text/x-python",
   "name": "python",
   "nbconvert_exporter": "python",
   "pygments_lexer": "ipython3",
   "version": "3.11.5"
  }
 },
 "nbformat": 4,
 "nbformat_minor": 2
}
